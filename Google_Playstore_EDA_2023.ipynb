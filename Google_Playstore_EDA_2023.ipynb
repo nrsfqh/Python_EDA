{
 "cells": [
  {
   "cell_type": "markdown",
   "id": "7cc00254-ed30-4df6-a2ce-decf475210d9",
   "metadata": {},
   "source": [
    "# <u> Introduction </u>"
   ]
  },
  {
   "cell_type": "markdown",
   "id": "fabf3031-1cb9-41dd-8c3f-bfd5e1efef02",
   "metadata": {},
   "source": [
    "Hello! This is a project aimed at doing an Explotary Data Analysis (Analyze and gain insights) on the dataset. \n",
    "\n",
    "Please excuse me if there are some methods or codes that are wrong. Thank you!\n",
    "\n",
    "The dataset used is from Kaggle. \n",
    "\n",
    "Dataset Credits: https://www.kaggle.com/datasets/gauthamp10/google-playstore-apps\n",
    "\n",
    "My Github Repo: https://github.com/nrsfqh/Python_EDA",
    "\n",
    "My Github Page: https://github.com/nrsfqh"
   ]
  },
  {
   "cell_type": "code",
   "execution_count": 1,
   "id": "e1139544",
   "metadata": {},
   "outputs": [],
   "source": [
    "# Imports\n",
    "import pandas as pd\n",
    "import numpy as np\n",
    "\n",
    "#Graphs\n",
    "import seaborn as sns\n",
    "import matplotlib.pyplot as plt\n",
    "import matplotlib.ticker as mtick\n",
    "import matplotlib.patches as patches\n",
    "import matplotlib.cm as cm\n",
    "from tabulate import tabulate\n",
    "from matplotlib.ticker import FuncFormatter\n",
    "import re"
   ]
  },
  {
   "cell_type": "code",
   "execution_count": 2,
   "id": "2b6ae30a",
   "metadata": {},
   "outputs": [],
   "source": [
    "# Reading the file\n",
    "\n",
    "playstore_data = pd.read_csv('Google-Playstore.csv') \n"
   ]
  },
  {
   "cell_type": "markdown",
   "id": "730a4def",
   "metadata": {},
   "source": [
    "## Data Exploration"
   ]
  },
  {
   "cell_type": "code",
   "execution_count": 3,
   "id": "d39f7e85",
   "metadata": {},
   "outputs": [
    {
     "name": "stdout",
     "output_type": "stream",
     "text": [
      "<class 'pandas.core.frame.DataFrame'>\n",
      "RangeIndex: 2312944 entries, 0 to 2312943\n",
      "Data columns (total 24 columns):\n",
      " #   Column             Dtype  \n",
      "---  ------             -----  \n",
      " 0   App Name           object \n",
      " 1   App Id             object \n",
      " 2   Category           object \n",
      " 3   Rating             float64\n",
      " 4   Rating Count       float64\n",
      " 5   Installs           object \n",
      " 6   Minimum Installs   float64\n",
      " 7   Maximum Installs   int64  \n",
      " 8   Free               bool   \n",
      " 9   Price              float64\n",
      " 10  Currency           object \n",
      " 11  Size               object \n",
      " 12  Minimum Android    object \n",
      " 13  Developer Id       object \n",
      " 14  Developer Website  object \n",
      " 15  Developer Email    object \n",
      " 16  Released           object \n",
      " 17  Last Updated       object \n",
      " 18  Content Rating     object \n",
      " 19  Privacy Policy     object \n",
      " 20  Ad Supported       bool   \n",
      " 21  In App Purchases   bool   \n",
      " 22  Editors Choice     bool   \n",
      " 23  Scraped Time       object \n",
      "dtypes: bool(4), float64(4), int64(1), object(15)\n",
      "memory usage: 361.8+ MB\n"
     ]
    }
   ],
   "source": [
    "playstore_data.info()"
   ]
  },
  {
   "cell_type": "markdown",
   "id": "8d3e757e",
   "metadata": {},
   "source": [
    "- There are 24 columns in total.\n",
    "\n",
    "<space>\n",
    "\n",
    "- I believe some of the data types can be changed. For example, \"Last Updated\" and \"Released\" should be DateTime dtype. Size should be of numerical dtypes. Also, Min and Max Installs are of diff dtypes despite being about the same thing.\n",
    "    \n",
    "<space>\n",
    "    \n",
    "- Some columns will not be used to do EDA such as \"Scrapped Time\", \"Privacy Policy\", \"Dev Website\" and a few others columns. Hence, this columns will be dropped"
   ]
  },
  {
   "cell_type": "code",
   "execution_count": 4,
   "id": "a93b4af1",
   "metadata": {},
   "outputs": [
    {
     "data": {
      "text/html": [
       "<div>\n",
       "<style scoped>\n",
       "    .dataframe tbody tr th:only-of-type {\n",
       "        vertical-align: middle;\n",
       "    }\n",
       "\n",
       "    .dataframe tbody tr th {\n",
       "        vertical-align: top;\n",
       "    }\n",
       "\n",
       "    .dataframe thead th {\n",
       "        text-align: right;\n",
       "    }\n",
       "</style>\n",
       "<table border=\"1\" class=\"dataframe\">\n",
       "  <thead>\n",
       "    <tr style=\"text-align: right;\">\n",
       "      <th></th>\n",
       "      <th>App Name</th>\n",
       "      <th>App Id</th>\n",
       "      <th>Category</th>\n",
       "      <th>Rating</th>\n",
       "      <th>Rating Count</th>\n",
       "      <th>Installs</th>\n",
       "      <th>Minimum Installs</th>\n",
       "      <th>Maximum Installs</th>\n",
       "      <th>Free</th>\n",
       "      <th>Price</th>\n",
       "      <th>Currency</th>\n",
       "      <th>Size</th>\n",
       "      <th>Minimum Android</th>\n",
       "      <th>Developer Id</th>\n",
       "      <th>Developer Website</th>\n",
       "      <th>Developer Email</th>\n",
       "      <th>Released</th>\n",
       "      <th>Last Updated</th>\n",
       "      <th>Content Rating</th>\n",
       "      <th>Privacy Policy</th>\n",
       "      <th>Ad Supported</th>\n",
       "      <th>In App Purchases</th>\n",
       "      <th>Editors Choice</th>\n",
       "      <th>Scraped Time</th>\n",
       "    </tr>\n",
       "  </thead>\n",
       "  <tbody>\n",
       "    <tr>\n",
       "      <th>0</th>\n",
       "      <td>Gakondo</td>\n",
       "      <td>com.ishakwe.gakondo</td>\n",
       "      <td>Adventure</td>\n",
       "      <td>0.0</td>\n",
       "      <td>0.0</td>\n",
       "      <td>10+</td>\n",
       "      <td>10.0</td>\n",
       "      <td>15</td>\n",
       "      <td>True</td>\n",
       "      <td>0.0</td>\n",
       "      <td>USD</td>\n",
       "      <td>10M</td>\n",
       "      <td>7.1 and up</td>\n",
       "      <td>Jean Confident Irénée NIYIZIBYOSE</td>\n",
       "      <td>https://beniyizibyose.tk/#/</td>\n",
       "      <td>jean21101999@gmail.com</td>\n",
       "      <td>Feb 26, 2020</td>\n",
       "      <td>Feb 26, 2020</td>\n",
       "      <td>Everyone</td>\n",
       "      <td>https://beniyizibyose.tk/projects/</td>\n",
       "      <td>False</td>\n",
       "      <td>False</td>\n",
       "      <td>False</td>\n",
       "      <td>2021-06-15 20:19:35</td>\n",
       "    </tr>\n",
       "    <tr>\n",
       "      <th>1</th>\n",
       "      <td>Ampere Battery Info</td>\n",
       "      <td>com.webserveis.batteryinfo</td>\n",
       "      <td>Tools</td>\n",
       "      <td>4.4</td>\n",
       "      <td>64.0</td>\n",
       "      <td>5,000+</td>\n",
       "      <td>5000.0</td>\n",
       "      <td>7662</td>\n",
       "      <td>True</td>\n",
       "      <td>0.0</td>\n",
       "      <td>USD</td>\n",
       "      <td>2.9M</td>\n",
       "      <td>5.0 and up</td>\n",
       "      <td>Webserveis</td>\n",
       "      <td>https://webserveis.netlify.app/</td>\n",
       "      <td>webserveis@gmail.com</td>\n",
       "      <td>May 21, 2020</td>\n",
       "      <td>May 06, 2021</td>\n",
       "      <td>Everyone</td>\n",
       "      <td>https://dev4phones.wordpress.com/licencia-de-uso/</td>\n",
       "      <td>True</td>\n",
       "      <td>False</td>\n",
       "      <td>False</td>\n",
       "      <td>2021-06-15 20:19:35</td>\n",
       "    </tr>\n",
       "    <tr>\n",
       "      <th>2</th>\n",
       "      <td>Vibook</td>\n",
       "      <td>com.doantiepvien.crm</td>\n",
       "      <td>Productivity</td>\n",
       "      <td>0.0</td>\n",
       "      <td>0.0</td>\n",
       "      <td>50+</td>\n",
       "      <td>50.0</td>\n",
       "      <td>58</td>\n",
       "      <td>True</td>\n",
       "      <td>0.0</td>\n",
       "      <td>USD</td>\n",
       "      <td>3.7M</td>\n",
       "      <td>4.0.3 and up</td>\n",
       "      <td>Cabin Crew</td>\n",
       "      <td>NaN</td>\n",
       "      <td>vnacrewit@gmail.com</td>\n",
       "      <td>Aug 9, 2019</td>\n",
       "      <td>Aug 19, 2019</td>\n",
       "      <td>Everyone</td>\n",
       "      <td>https://www.vietnamairlines.com/vn/en/terms-an...</td>\n",
       "      <td>False</td>\n",
       "      <td>False</td>\n",
       "      <td>False</td>\n",
       "      <td>2021-06-15 20:19:35</td>\n",
       "    </tr>\n",
       "    <tr>\n",
       "      <th>3</th>\n",
       "      <td>Smart City Trichy Public Service Vehicles 17UC...</td>\n",
       "      <td>cst.stJoseph.ug17ucs548</td>\n",
       "      <td>Communication</td>\n",
       "      <td>5.0</td>\n",
       "      <td>5.0</td>\n",
       "      <td>10+</td>\n",
       "      <td>10.0</td>\n",
       "      <td>19</td>\n",
       "      <td>True</td>\n",
       "      <td>0.0</td>\n",
       "      <td>USD</td>\n",
       "      <td>1.8M</td>\n",
       "      <td>4.0.3 and up</td>\n",
       "      <td>Climate Smart Tech2</td>\n",
       "      <td>http://www.climatesmarttech.com/</td>\n",
       "      <td>climatesmarttech2@gmail.com</td>\n",
       "      <td>Sep 10, 2018</td>\n",
       "      <td>Oct 13, 2018</td>\n",
       "      <td>Everyone</td>\n",
       "      <td>NaN</td>\n",
       "      <td>True</td>\n",
       "      <td>False</td>\n",
       "      <td>False</td>\n",
       "      <td>2021-06-15 20:19:35</td>\n",
       "    </tr>\n",
       "    <tr>\n",
       "      <th>4</th>\n",
       "      <td>GROW.me</td>\n",
       "      <td>com.horodyski.grower</td>\n",
       "      <td>Tools</td>\n",
       "      <td>0.0</td>\n",
       "      <td>0.0</td>\n",
       "      <td>100+</td>\n",
       "      <td>100.0</td>\n",
       "      <td>478</td>\n",
       "      <td>True</td>\n",
       "      <td>0.0</td>\n",
       "      <td>USD</td>\n",
       "      <td>6.2M</td>\n",
       "      <td>4.1 and up</td>\n",
       "      <td>Rafal Milek-Horodyski</td>\n",
       "      <td>http://www.horodyski.com.pl</td>\n",
       "      <td>rmilekhorodyski@gmail.com</td>\n",
       "      <td>Feb 21, 2020</td>\n",
       "      <td>Nov 12, 2018</td>\n",
       "      <td>Everyone</td>\n",
       "      <td>http://www.horodyski.com.pl</td>\n",
       "      <td>False</td>\n",
       "      <td>False</td>\n",
       "      <td>False</td>\n",
       "      <td>2021-06-15 20:19:35</td>\n",
       "    </tr>\n",
       "  </tbody>\n",
       "</table>\n",
       "</div>"
      ],
      "text/plain": [
       "                                            App Name  \\\n",
       "0                                            Gakondo   \n",
       "1                                Ampere Battery Info   \n",
       "2                                             Vibook   \n",
       "3  Smart City Trichy Public Service Vehicles 17UC...   \n",
       "4                                            GROW.me   \n",
       "\n",
       "                       App Id       Category  Rating  Rating Count Installs  \\\n",
       "0         com.ishakwe.gakondo      Adventure     0.0           0.0      10+   \n",
       "1  com.webserveis.batteryinfo          Tools     4.4          64.0   5,000+   \n",
       "2        com.doantiepvien.crm   Productivity     0.0           0.0      50+   \n",
       "3     cst.stJoseph.ug17ucs548  Communication     5.0           5.0      10+   \n",
       "4        com.horodyski.grower          Tools     0.0           0.0     100+   \n",
       "\n",
       "   Minimum Installs  Maximum Installs  Free  Price Currency  Size  \\\n",
       "0              10.0                15  True    0.0      USD   10M   \n",
       "1            5000.0              7662  True    0.0      USD  2.9M   \n",
       "2              50.0                58  True    0.0      USD  3.7M   \n",
       "3              10.0                19  True    0.0      USD  1.8M   \n",
       "4             100.0               478  True    0.0      USD  6.2M   \n",
       "\n",
       "  Minimum Android                       Developer Id  \\\n",
       "0      7.1 and up  Jean Confident Irénée NIYIZIBYOSE   \n",
       "1      5.0 and up                         Webserveis   \n",
       "2    4.0.3 and up                         Cabin Crew   \n",
       "3    4.0.3 and up                Climate Smart Tech2   \n",
       "4      4.1 and up              Rafal Milek-Horodyski   \n",
       "\n",
       "                  Developer Website              Developer Email  \\\n",
       "0       https://beniyizibyose.tk/#/       jean21101999@gmail.com   \n",
       "1   https://webserveis.netlify.app/         webserveis@gmail.com   \n",
       "2                               NaN          vnacrewit@gmail.com   \n",
       "3  http://www.climatesmarttech.com/  climatesmarttech2@gmail.com   \n",
       "4       http://www.horodyski.com.pl    rmilekhorodyski@gmail.com   \n",
       "\n",
       "       Released  Last Updated Content Rating  \\\n",
       "0  Feb 26, 2020  Feb 26, 2020       Everyone   \n",
       "1  May 21, 2020  May 06, 2021       Everyone   \n",
       "2   Aug 9, 2019  Aug 19, 2019       Everyone   \n",
       "3  Sep 10, 2018  Oct 13, 2018       Everyone   \n",
       "4  Feb 21, 2020  Nov 12, 2018       Everyone   \n",
       "\n",
       "                                      Privacy Policy  Ad Supported  \\\n",
       "0                 https://beniyizibyose.tk/projects/         False   \n",
       "1  https://dev4phones.wordpress.com/licencia-de-uso/          True   \n",
       "2  https://www.vietnamairlines.com/vn/en/terms-an...         False   \n",
       "3                                                NaN          True   \n",
       "4                        http://www.horodyski.com.pl         False   \n",
       "\n",
       "   In App Purchases  Editors Choice         Scraped Time  \n",
       "0             False           False  2021-06-15 20:19:35  \n",
       "1             False           False  2021-06-15 20:19:35  \n",
       "2             False           False  2021-06-15 20:19:35  \n",
       "3             False           False  2021-06-15 20:19:35  \n",
       "4             False           False  2021-06-15 20:19:35  "
      ]
     },
     "execution_count": 4,
     "metadata": {},
     "output_type": "execute_result"
    }
   ],
   "source": [
    "# Display Max Columns\n",
    "pd.options.display.max_columns = None  \n",
    "\n",
    "playstore_data.head()"
   ]
  },
  {
   "cell_type": "code",
   "execution_count": 5,
   "id": "e1435de1",
   "metadata": {},
   "outputs": [
    {
     "data": {
      "text/plain": [
       "App Name                  2\n",
       "App Id                    0\n",
       "Category                  0\n",
       "Rating                22883\n",
       "Rating Count          22883\n",
       "Installs                107\n",
       "Minimum Installs        107\n",
       "Maximum Installs          0\n",
       "Free                      0\n",
       "Price                     0\n",
       "Currency                135\n",
       "Size                    196\n",
       "Minimum Android        6530\n",
       "Developer Id             33\n",
       "Developer Website    760835\n",
       "Developer Email          31\n",
       "Released              71053\n",
       "Last Updated              0\n",
       "Content Rating            0\n",
       "Privacy Policy       420953\n",
       "Ad Supported              0\n",
       "In App Purchases          0\n",
       "Editors Choice            0\n",
       "Scraped Time              0\n",
       "dtype: int64"
      ]
     },
     "execution_count": 5,
     "metadata": {},
     "output_type": "execute_result"
    }
   ],
   "source": [
    "#Check for any missing values\n",
    "\n",
    "playstore_data.isnull().sum()"
   ]
  },
  {
   "cell_type": "markdown",
   "id": "37e1c52d",
   "metadata": {},
   "source": [
    "- Dataset has a few missing values. Will be handled further during data cleaning"
   ]
  },
  {
   "cell_type": "code",
   "execution_count": 6,
   "id": "16e5b53e",
   "metadata": {},
   "outputs": [
    {
     "data": {
      "text/plain": [
       "False    2312944\n",
       "dtype: int64"
      ]
     },
     "execution_count": 6,
     "metadata": {},
     "output_type": "execute_result"
    }
   ],
   "source": [
    "#Checking for duplicated records -> Might have some apps that are keyed twice?\n",
    "\n",
    "playstore_data.duplicated().value_counts()"
   ]
  },
  {
   "cell_type": "markdown",
   "id": "f08fbad3",
   "metadata": {},
   "source": [
    "- Dataset has no duplicated records."
   ]
  },
  {
   "cell_type": "code",
   "execution_count": 7,
   "id": "5b56b151",
   "metadata": {},
   "outputs": [
    {
     "data": {
      "text/plain": [
       "Education                  241090\n",
       "Music & Audio              154906\n",
       "Tools                      143988\n",
       "Business                   143771\n",
       "Entertainment              138276\n",
       "Lifestyle                  118331\n",
       "Books & Reference          116728\n",
       "Personalization             89210\n",
       "Health & Fitness            83510\n",
       "Productivity                79698\n",
       "Shopping                    75256\n",
       "Food & Drink                73927\n",
       "Travel & Local              67288\n",
       "Finance                     65466\n",
       "Arcade                      53792\n",
       "Puzzle                      51168\n",
       "Casual                      50813\n",
       "Communication               48167\n",
       "Sports                      47483\n",
       "Social                      44734\n",
       "News & Magazines            42807\n",
       "Photography                 35552\n",
       "Medical                     32065\n",
       "Action                      27555\n",
       "Maps & Navigation           26722\n",
       "Simulation                  23282\n",
       "Adventure                   23203\n",
       "Educational                 21308\n",
       "Art & Design                18539\n",
       "Auto & Vehicles             18280\n",
       "House & Home                14369\n",
       "Video Players & Editors     14015\n",
       "Events                      12841\n",
       "Trivia                      11795\n",
       "Beauty                      11772\n",
       "Board                       10588\n",
       "Racing                      10362\n",
       "Role Playing                10034\n",
       "Word                         8630\n",
       "Strategy                     8526\n",
       "Card                         8179\n",
       "Weather                      7246\n",
       "Dating                       6524\n",
       "Libraries & Demo             5198\n",
       "Casino                       5076\n",
       "Music                        4202\n",
       "Parenting                    3810\n",
       "Comics                       2862\n",
       "Name: Category, dtype: int64"
      ]
     },
     "execution_count": 7,
     "metadata": {},
     "output_type": "execute_result"
    }
   ],
   "source": [
    "# Looking at Unique Values of Category\n",
    "\n",
    "playstore_data[\"Category\"].value_counts()"
   ]
  },
  {
   "cell_type": "markdown",
   "id": "05b56e1e",
   "metadata": {},
   "source": [
    "- There are some categories which could possibly be combined such as: \n",
    "    - \"Music\" and \"Music & Audio\".\n",
    "    - \"Educational\" and \"Education.\n",
    "\n"
   ]
  },
  {
   "cell_type": "code",
   "execution_count": 8,
   "id": "b8df95a8",
   "metadata": {},
   "outputs": [
    {
     "data": {
      "text/plain": [
       "Everyone           2022089\n",
       "Teen                196375\n",
       "Mature 17+           60289\n",
       "Everyone 10+         33901\n",
       "Unrated                154\n",
       "Adults only 18+        136\n",
       "Name: Content Rating, dtype: int64"
      ]
     },
     "execution_count": 8,
     "metadata": {},
     "output_type": "execute_result"
    }
   ],
   "source": [
    "playstore_data[\"Content Rating\"].value_counts()"
   ]
  },
  {
   "cell_type": "markdown",
   "id": "8805b8c9",
   "metadata": {},
   "source": [
    "- There are 151 unrated applications. Personally, I think it's possible to combine it into the \"Everyone\" bracket.\n",
    "\n",
    "<space>\n",
    "\n",
    "- On that note, \"Everyone 10+\" can be changed into \"Everyone\". Every rating with a number can also be removed."
   ]
  },
  {
   "cell_type": "markdown",
   "id": "bf5fb44a",
   "metadata": {},
   "source": [
    "#### **Insights:**\n",
    "\n",
    "1) There are 24 columns in total. Some columns will be dropped due to redundantcy.\n",
    "\n",
    "<space>    \n",
    "    \n",
    "2) Some of the data types can be changed as it's incorrect (\"Last Updated\" and \"Released\", Size and Installs)\n",
    "    \n",
    "<space>\n",
    "\n",
    "3) Dataset has a few missing values. \n",
    "    \n",
    "<space>\n",
    "\n",
    "4) Dataset has no duplicated records.\n",
    "    \n",
    "<space>\n",
    "    \n",
    "5) Rating can be combined."
   ]
  },
  {
   "cell_type": "markdown",
   "id": "0e98d000",
   "metadata": {},
   "source": [
    "## Data Transformation\n",
    "\n",
    "Transformations to do: \n",
    "\n",
    "> Drop a few columns\n",
    "\n",
    "> Change Dtypes\n",
    "\n",
    "> Combine a few categories\n",
    "\n",
    "> Combine Content Rating for \"Unrated\"\n",
    "\n",
    "> Handle Missing Values\n"
   ]
  },
  {
   "cell_type": "markdown",
   "id": "4778bf30",
   "metadata": {},
   "source": [
    "### Dropping Columns"
   ]
  },
  {
   "cell_type": "code",
   "execution_count": 9,
   "id": "48bf0aa3",
   "metadata": {},
   "outputs": [
    {
     "name": "stdout",
     "output_type": "stream",
     "text": [
      "<class 'pandas.core.frame.DataFrame'>\n",
      "RangeIndex: 2312944 entries, 0 to 2312943\n",
      "Data columns (total 24 columns):\n",
      " #   Column             Dtype  \n",
      "---  ------             -----  \n",
      " 0   App Name           object \n",
      " 1   App Id             object \n",
      " 2   Category           object \n",
      " 3   Rating             float64\n",
      " 4   Rating Count       float64\n",
      " 5   Installs           object \n",
      " 6   Minimum Installs   float64\n",
      " 7   Maximum Installs   int64  \n",
      " 8   Free               bool   \n",
      " 9   Price              float64\n",
      " 10  Currency           object \n",
      " 11  Size               object \n",
      " 12  Minimum Android    object \n",
      " 13  Developer Id       object \n",
      " 14  Developer Website  object \n",
      " 15  Developer Email    object \n",
      " 16  Released           object \n",
      " 17  Last Updated       object \n",
      " 18  Content Rating     object \n",
      " 19  Privacy Policy     object \n",
      " 20  Ad Supported       bool   \n",
      " 21  In App Purchases   bool   \n",
      " 22  Editors Choice     bool   \n",
      " 23  Scraped Time       object \n",
      "dtypes: bool(4), float64(4), int64(1), object(15)\n",
      "memory usage: 361.8+ MB\n"
     ]
    }
   ],
   "source": [
    "# Looking at the .info()\n",
    "\n",
    "playstore_data.info()"
   ]
  },
  {
   "cell_type": "code",
   "execution_count": 10,
   "id": "f9bc8767",
   "metadata": {},
   "outputs": [],
   "source": [
    "# This is just a personal choice, but I prefer if the column names has a underscore for those with two words.\n",
    "# It would also be easier when doing graphs and so on later\n",
    "\n",
    "new_cols = {col: col.replace(' ', '_') for col in playstore_data.columns}\n",
    "\n",
    "playstore_data.rename(columns=new_cols, inplace=True)"
   ]
  },
  {
   "cell_type": "code",
   "execution_count": 11,
   "id": "b4a95ca0",
   "metadata": {},
   "outputs": [
    {
     "name": "stdout",
     "output_type": "stream",
     "text": [
      "<class 'pandas.core.frame.DataFrame'>\n",
      "RangeIndex: 2312944 entries, 0 to 2312943\n",
      "Data columns (total 24 columns):\n",
      " #   Column             Dtype  \n",
      "---  ------             -----  \n",
      " 0   App_Name           object \n",
      " 1   App_Id             object \n",
      " 2   Category           object \n",
      " 3   Rating             float64\n",
      " 4   Rating_Count       float64\n",
      " 5   Installs           object \n",
      " 6   Minimum_Installs   float64\n",
      " 7   Maximum_Installs   int64  \n",
      " 8   Free               bool   \n",
      " 9   Price              float64\n",
      " 10  Currency           object \n",
      " 11  Size               object \n",
      " 12  Minimum_Android    object \n",
      " 13  Developer_Id       object \n",
      " 14  Developer_Website  object \n",
      " 15  Developer_Email    object \n",
      " 16  Released           object \n",
      " 17  Last_Updated       object \n",
      " 18  Content_Rating     object \n",
      " 19  Privacy_Policy     object \n",
      " 20  Ad_Supported       bool   \n",
      " 21  In_App_Purchases   bool   \n",
      " 22  Editors_Choice     bool   \n",
      " 23  Scraped_Time       object \n",
      "dtypes: bool(4), float64(4), int64(1), object(15)\n",
      "memory usage: 361.8+ MB\n"
     ]
    }
   ],
   "source": [
    "# Checking\n",
    "playstore_data.info()"
   ]
  },
  {
   "cell_type": "code",
   "execution_count": 12,
   "id": "1ab3fa5f",
   "metadata": {},
   "outputs": [],
   "source": [
    "cols_to_drop = [\"App_Id\", \"Minimum_Android\", \"Developer_Id\", \"Developer_Website\", \n",
    "                   \"Developer_Email\", \"Privacy_Policy\", \"Scraped_Time\"] \n",
    "\n",
    "playstore_data = playstore_data.drop(columns=cols_to_drop)"
   ]
  },
  {
   "cell_type": "code",
   "execution_count": 13,
   "id": "3dd793f0",
   "metadata": {},
   "outputs": [
    {
     "name": "stdout",
     "output_type": "stream",
     "text": [
      "<class 'pandas.core.frame.DataFrame'>\n",
      "RangeIndex: 2312944 entries, 0 to 2312943\n",
      "Data columns (total 17 columns):\n",
      " #   Column            Dtype  \n",
      "---  ------            -----  \n",
      " 0   App_Name          object \n",
      " 1   Category          object \n",
      " 2   Rating            float64\n",
      " 3   Rating_Count      float64\n",
      " 4   Installs          object \n",
      " 5   Minimum_Installs  float64\n",
      " 6   Maximum_Installs  int64  \n",
      " 7   Free              bool   \n",
      " 8   Price             float64\n",
      " 9   Currency          object \n",
      " 10  Size              object \n",
      " 11  Released          object \n",
      " 12  Last_Updated      object \n",
      " 13  Content_Rating    object \n",
      " 14  Ad_Supported      bool   \n",
      " 15  In_App_Purchases  bool   \n",
      " 16  Editors_Choice    bool   \n",
      "dtypes: bool(4), float64(4), int64(1), object(8)\n",
      "memory usage: 238.2+ MB\n"
     ]
    }
   ],
   "source": [
    "# After Dropping\n",
    "\n",
    "playstore_data.info()"
   ]
  },
  {
   "cell_type": "markdown",
   "id": "60936d9f",
   "metadata": {},
   "source": [
    "- Total columns have decreased from 24 to 17.\n",
    "\n",
    "<space>\n",
    "\n",
    "- Number of entries remain the same (2312944), which means now rows has been accidentally deleted."
   ]
  },
  {
   "cell_type": "markdown",
   "id": "b2f2efaf",
   "metadata": {},
   "source": [
    "### Change Dtypes\n",
    "\n",
    "> I mentioned earlier that \"Last_Updated\" and \"Released\" should be DateTime dtype. \n",
    "\n",
    "> \"Size\" should be of numerical dtypes.\n",
    "\n",
    "> Min and Max should be of same dtype"
   ]
  },
  {
   "cell_type": "code",
   "execution_count": 14,
   "id": "f13c2179",
   "metadata": {},
   "outputs": [
    {
     "data": {
      "text/html": [
       "<div>\n",
       "<style scoped>\n",
       "    .dataframe tbody tr th:only-of-type {\n",
       "        vertical-align: middle;\n",
       "    }\n",
       "\n",
       "    .dataframe tbody tr th {\n",
       "        vertical-align: top;\n",
       "    }\n",
       "\n",
       "    .dataframe thead th {\n",
       "        text-align: right;\n",
       "    }\n",
       "</style>\n",
       "<table border=\"1\" class=\"dataframe\">\n",
       "  <thead>\n",
       "    <tr style=\"text-align: right;\">\n",
       "      <th></th>\n",
       "      <th>App_Name</th>\n",
       "      <th>Category</th>\n",
       "      <th>Rating</th>\n",
       "      <th>Rating_Count</th>\n",
       "      <th>Installs</th>\n",
       "      <th>Minimum_Installs</th>\n",
       "      <th>Maximum_Installs</th>\n",
       "      <th>Free</th>\n",
       "      <th>Price</th>\n",
       "      <th>Currency</th>\n",
       "      <th>Size</th>\n",
       "      <th>Released</th>\n",
       "      <th>Last_Updated</th>\n",
       "      <th>Content_Rating</th>\n",
       "      <th>Ad_Supported</th>\n",
       "      <th>In_App_Purchases</th>\n",
       "      <th>Editors_Choice</th>\n",
       "    </tr>\n",
       "  </thead>\n",
       "  <tbody>\n",
       "    <tr>\n",
       "      <th>0</th>\n",
       "      <td>Gakondo</td>\n",
       "      <td>Adventure</td>\n",
       "      <td>0.0</td>\n",
       "      <td>0.0</td>\n",
       "      <td>10+</td>\n",
       "      <td>10.0</td>\n",
       "      <td>15</td>\n",
       "      <td>True</td>\n",
       "      <td>0.0</td>\n",
       "      <td>USD</td>\n",
       "      <td>10M</td>\n",
       "      <td>Feb 26, 2020</td>\n",
       "      <td>Feb 26, 2020</td>\n",
       "      <td>Everyone</td>\n",
       "      <td>False</td>\n",
       "      <td>False</td>\n",
       "      <td>False</td>\n",
       "    </tr>\n",
       "  </tbody>\n",
       "</table>\n",
       "</div>"
      ],
      "text/plain": [
       "  App_Name   Category  Rating  Rating_Count Installs  Minimum_Installs  \\\n",
       "0  Gakondo  Adventure     0.0           0.0      10+              10.0   \n",
       "\n",
       "   Maximum_Installs  Free  Price Currency Size      Released  Last_Updated  \\\n",
       "0                15  True    0.0      USD  10M  Feb 26, 2020  Feb 26, 2020   \n",
       "\n",
       "  Content_Rating  Ad_Supported  In_App_Purchases  Editors_Choice  \n",
       "0       Everyone         False             False           False  "
      ]
     },
     "execution_count": 14,
     "metadata": {},
     "output_type": "execute_result"
    }
   ],
   "source": [
    "playstore_data.head(1)"
   ]
  },
  {
   "cell_type": "code",
   "execution_count": 15,
   "id": "0f3ef74b",
   "metadata": {},
   "outputs": [],
   "source": [
    "# Firstly let's convert the two cols to datetime\n",
    "\n",
    "playstore_data[\"Released\"] = pd.to_datetime(playstore_data[\"Released\"], format='%b %d, %Y')\n",
    "\n",
    "playstore_data[\"Last_Updated\"] = pd.to_datetime(playstore_data[\"Last_Updated\"], format='%b %d, %Y')"
   ]
  },
  {
   "cell_type": "markdown",
   "id": "e48ec2ca",
   "metadata": {},
   "source": [
    "#### Installs + Min Installs and Max Installs"
   ]
  },
  {
   "cell_type": "markdown",
   "id": "ae305096",
   "metadata": {},
   "source": [
    "- Installs should be changed to a numerical dtype instead of object.\n",
    "\n",
    "<space>\n",
    "\n",
    "- I think Min and Max should be standardize to the same dtype which will be integer. This is because there's no such thing as a \"10.4\" installs. All numbers are whole numbers."
   ]
  },
  {
   "cell_type": "code",
   "execution_count": 16,
   "id": "dd3a24f0",
   "metadata": {},
   "outputs": [],
   "source": [
    "# Removing non-numeric characters for Installs\n",
    "\n",
    "playstore_data[\"Installs\"] = playstore_data[\"Installs\"].str.replace(r'[^0-9.]','', regex=True)"
   ]
  },
  {
   "cell_type": "code",
   "execution_count": 17,
   "id": "a3507a47",
   "metadata": {},
   "outputs": [
    {
     "data": {
      "text/plain": [
       "107"
      ]
     },
     "execution_count": 17,
     "metadata": {},
     "output_type": "execute_result"
    }
   ],
   "source": [
    "# Checking missing values\n",
    "playstore_data[\"Installs\"].isnull().sum()"
   ]
  },
  {
   "cell_type": "markdown",
   "id": "d6b088e1",
   "metadata": {},
   "source": [
    "- In this case, it might be possible to fill up these missing values as there is a max and min column. We could take max - min"
   ]
  },
  {
   "cell_type": "code",
   "execution_count": 18,
   "id": "800e6c9a",
   "metadata": {},
   "outputs": [
    {
     "name": "stdout",
     "output_type": "stream",
     "text": [
      "App_Name                   Potato Smash\n",
      "Category                       Strategy\n",
      "Rating                              NaN\n",
      "Rating_Count                        NaN\n",
      "Installs                            NaN\n",
      "Minimum_Installs                    NaN\n",
      "Maximum_Installs                  72087\n",
      "Free                              False\n",
      "Price                               0.0\n",
      "Currency                            NaN\n",
      "Size                                92M\n",
      "Released                            NaT\n",
      "Last_Updated        2021-06-11 00:00:00\n",
      "Content_Rating                 Everyone\n",
      "Ad_Supported                       True\n",
      "In_App_Purchases                  False\n",
      "Editors_Choice                    False\n",
      "Name: 43569, dtype: object\n"
     ]
    }
   ],
   "source": [
    "# Getting the indexs of rows that contains the missing data\n",
    "min_installs_missing = playstore_data[playstore_data[\"Installs\"].isnull()]\n",
    "\n",
    "# Select the row using .iloc[]\n",
    "missing_row = min_installs_missing.iloc[1]\n",
    "\n",
    "print(missing_row)"
   ]
  },
  {
   "cell_type": "code",
   "execution_count": 19,
   "id": "0672c712",
   "metadata": {},
   "outputs": [
    {
     "data": {
      "text/plain": [
       "107"
      ]
     },
     "execution_count": 19,
     "metadata": {},
     "output_type": "execute_result"
    }
   ],
   "source": [
    "playstore_data[\"Minimum_Installs\"].isnull().sum()"
   ]
  },
  {
   "cell_type": "code",
   "execution_count": 20,
   "id": "ee28baf6",
   "metadata": {},
   "outputs": [
    {
     "data": {
      "text/plain": [
       "0"
      ]
     },
     "execution_count": 20,
     "metadata": {},
     "output_type": "execute_result"
    }
   ],
   "source": [
    "playstore_data[\"Maximum_Installs\"].isnull().sum()"
   ]
  },
  {
   "cell_type": "markdown",
   "id": "89290700",
   "metadata": {},
   "source": [
    "- All of the missing rows contains a missing \"Minimum Installs\" value as well. \n",
    "\n",
    "<space>\n",
    "\n",
    "- In this case, it's best to drop any missing rows as we have no way to calculate the install without the minimum installs."
   ]
  },
  {
   "cell_type": "code",
   "execution_count": 21,
   "id": "0e23e493",
   "metadata": {},
   "outputs": [],
   "source": [
    "# Drop missing vals\n",
    "playstore_data = playstore_data.dropna(subset=[\"Installs\"])\n",
    "\n",
    "# Now we change the dtypes\n",
    "# Max install is already set to integer. We just have to change min installs and installs\n",
    "playstore_data[\"Minimum_Installs\"] = playstore_data[\"Minimum_Installs\"].astype(\"int64\")\n",
    "\n",
    "playstore_data[\"Installs\"] = playstore_data[\"Installs\"].astype(\"int64\")\n"
   ]
  },
  {
   "cell_type": "code",
   "execution_count": 22,
   "id": "1a2e420b",
   "metadata": {},
   "outputs": [
    {
     "name": "stdout",
     "output_type": "stream",
     "text": [
      "<class 'pandas.core.frame.DataFrame'>\n",
      "Int64Index: 2312837 entries, 0 to 2312943\n",
      "Data columns (total 17 columns):\n",
      " #   Column            Dtype         \n",
      "---  ------            -----         \n",
      " 0   App_Name          object        \n",
      " 1   Category          object        \n",
      " 2   Rating            float64       \n",
      " 3   Rating_Count      float64       \n",
      " 4   Installs          int64         \n",
      " 5   Minimum_Installs  int64         \n",
      " 6   Maximum_Installs  int64         \n",
      " 7   Free              bool          \n",
      " 8   Price             float64       \n",
      " 9   Currency          object        \n",
      " 10  Size              object        \n",
      " 11  Released          datetime64[ns]\n",
      " 12  Last_Updated      datetime64[ns]\n",
      " 13  Content_Rating    object        \n",
      " 14  Ad_Supported      bool          \n",
      " 15  In_App_Purchases  bool          \n",
      " 16  Editors_Choice    bool          \n",
      "dtypes: bool(4), datetime64[ns](2), float64(3), int64(3), object(5)\n",
      "memory usage: 255.9+ MB\n"
     ]
    }
   ],
   "source": [
    "# Checking\n",
    "playstore_data.info()"
   ]
  },
  {
   "cell_type": "markdown",
   "id": "d255a5a5",
   "metadata": {},
   "source": [
    "- Total columns is 17.\n",
    "\n",
    "<space>\n",
    "    \n",
    "- Dtypes have been changed accordingly."
   ]
  },
  {
   "cell_type": "markdown",
   "id": "687870c4",
   "metadata": {},
   "source": [
    "### Combine Categories\n",
    "\n",
    "> Music\" and \"Music & Audio\".\n",
    "\n",
    ">\"Educational\" and \"Education\"."
   ]
  },
  {
   "cell_type": "code",
   "execution_count": 23,
   "id": "3c261369",
   "metadata": {},
   "outputs": [],
   "source": [
    "# Mapping\n",
    "category_changers = {\n",
    "    \"Music & Audio\": \"Music\",\n",
    "    \"Educational\": \"Education\"}\n",
    "\n",
    "\n",
    "# Replace categories\n",
    "playstore_data[\"Category\"] = playstore_data[\"Category\"].replace(category_changers)"
   ]
  },
  {
   "cell_type": "code",
   "execution_count": 24,
   "id": "4cf3406c",
   "metadata": {},
   "outputs": [
    {
     "data": {
      "text/plain": [
       "Education                  262396\n",
       "Music                      159107\n",
       "Tools                      143985\n",
       "Business                   143771\n",
       "Entertainment              138275\n",
       "Lifestyle                  118331\n",
       "Books & Reference          116728\n",
       "Personalization             89209\n",
       "Health & Fitness            83509\n",
       "Productivity                79698\n",
       "Shopping                    75253\n",
       "Food & Drink                73926\n",
       "Travel & Local              67287\n",
       "Finance                     65464\n",
       "Arcade                      53789\n",
       "Puzzle                      51160\n",
       "Casual                      50809\n",
       "Communication               48167\n",
       "Sports                      47479\n",
       "Social                      44730\n",
       "News & Magazines            42807\n",
       "Photography                 35552\n",
       "Medical                     32065\n",
       "Action                      27546\n",
       "Maps & Navigation           26722\n",
       "Simulation                  23272\n",
       "Adventure                   23199\n",
       "Art & Design                18537\n",
       "Auto & Vehicles             18278\n",
       "House & Home                14368\n",
       "Video Players & Editors     14015\n",
       "Events                      12841\n",
       "Trivia                      11794\n",
       "Beauty                      11772\n",
       "Board                       10588\n",
       "Racing                      10361\n",
       "Role Playing                10010\n",
       "Word                         8627\n",
       "Strategy                     8518\n",
       "Card                         8176\n",
       "Weather                      7246\n",
       "Dating                       6524\n",
       "Libraries & Demo             5198\n",
       "Casino                       5076\n",
       "Parenting                    3810\n",
       "Comics                       2862\n",
       "Name: Category, dtype: int64"
      ]
     },
     "execution_count": 24,
     "metadata": {},
     "output_type": "execute_result"
    }
   ],
   "source": [
    "# Check Unique Values of Category\n",
    "\n",
    "playstore_data[\"Category\"].value_counts()"
   ]
  },
  {
   "cell_type": "markdown",
   "id": "22a895df",
   "metadata": {},
   "source": [
    "- Seems like it worked as \"Music & Audio\" and \"Educational\" no longer exists"
   ]
  },
  {
   "cell_type": "markdown",
   "id": "851aa667",
   "metadata": {},
   "source": [
    "### Combine Content Rating"
   ]
  },
  {
   "cell_type": "code",
   "execution_count": 25,
   "id": "edf95a58",
   "metadata": {},
   "outputs": [
    {
     "data": {
      "text/plain": [
       "Everyone           2022031\n",
       "Teen                196344\n",
       "Mature 17+           60286\n",
       "Everyone 10+         33886\n",
       "Unrated                154\n",
       "Adults only 18+        136\n",
       "Name: Content_Rating, dtype: int64"
      ]
     },
     "execution_count": 25,
     "metadata": {},
     "output_type": "execute_result"
    }
   ],
   "source": [
    "playstore_data[\"Content_Rating\"].value_counts()"
   ]
  },
  {
   "cell_type": "code",
   "execution_count": 26,
   "id": "b7579b07",
   "metadata": {},
   "outputs": [],
   "source": [
    "# Mapping\n",
    "category_changers = {\n",
    "    \"Unrated\": \"Everyone\",\n",
    "    \"Everyone 10+\": \"Everyone\", \n",
    "    \"Adults only 18+\": \"Adults only\", \n",
    "    \"Mature 17+\": \"Mature\"}\n",
    "\n",
    "\n",
    "# Replace categories\n",
    "playstore_data[\"Content_Rating\"] = playstore_data[\"Content_Rating\"].replace(category_changers)"
   ]
  },
  {
   "cell_type": "code",
   "execution_count": 27,
   "id": "2c46c9e3",
   "metadata": {},
   "outputs": [
    {
     "data": {
      "text/plain": [
       "Everyone       2056071\n",
       "Teen            196344\n",
       "Mature           60286\n",
       "Adults only        136\n",
       "Name: Content_Rating, dtype: int64"
      ]
     },
     "execution_count": 27,
     "metadata": {},
     "output_type": "execute_result"
    }
   ],
   "source": [
    "playstore_data[\"Content_Rating\"].value_counts()"
   ]
  },
  {
   "cell_type": "markdown",
   "id": "1fa3d494",
   "metadata": {},
   "source": [
    "### Handle Missing Values"
   ]
  },
  {
   "cell_type": "code",
   "execution_count": 28,
   "id": "0935d81b",
   "metadata": {},
   "outputs": [
    {
     "data": {
      "text/plain": [
       "App_Name                2\n",
       "Category                0\n",
       "Rating              22776\n",
       "Rating_Count        22776\n",
       "Installs                0\n",
       "Minimum_Installs        0\n",
       "Maximum_Installs        0\n",
       "Free                    0\n",
       "Price                   0\n",
       "Currency               28\n",
       "Size                  195\n",
       "Released            70953\n",
       "Last_Updated            0\n",
       "Content_Rating          0\n",
       "Ad_Supported            0\n",
       "In_App_Purchases        0\n",
       "Editors_Choice          0\n",
       "dtype: int64"
      ]
     },
     "execution_count": 28,
     "metadata": {},
     "output_type": "execute_result"
    }
   ],
   "source": [
    "#Looking at the missing values\n",
    "\n",
    "playstore_data.isnull().sum()"
   ]
  },
  {
   "cell_type": "code",
   "execution_count": 29,
   "id": "ebb5b586",
   "metadata": {},
   "outputs": [
    {
     "data": {
      "text/plain": [
       "USD    2311548\n",
       "XXX       1236\n",
       "EUR          6\n",
       "INR          5\n",
       "GBP          3\n",
       "CAD          2\n",
       "VND          1\n",
       "BRL          1\n",
       "KRW          1\n",
       "TRY          1\n",
       "RUB          1\n",
       "SGD          1\n",
       "AUD          1\n",
       "PKR          1\n",
       "ZAR          1\n",
       "Name: Currency, dtype: int64"
      ]
     },
     "execution_count": 29,
     "metadata": {},
     "output_type": "execute_result"
    }
   ],
   "source": [
    "# Quickly checking the various curreny values\n",
    "playstore_data[\"Currency\"].value_counts()"
   ]
  },
  {
   "cell_type": "markdown",
   "id": "df9a054f",
   "metadata": {},
   "source": [
    "Let's analyse this logically.\n",
    "\n",
    "1) App Name: This is data that cannot be interpreted in any way. \n",
    "\n",
    "<space>\n",
    "\n",
    "2) Rating & Rating counts: Both contain 919 missing values. Similarly, it will be difficult to predict what the individual rating counts may be.\n",
    "\n",
    "<space>\n",
    "  \n",
    "3) Currency: It will be hard to say for sure which currency is used based off Price alone. From the code above, there are plenty of different currencies.\n",
    "     \n",
    "<space>  \n",
    "    \n",
    "4) Released: Cannot be interpreted as well. Even if we use the Last_Updated data, there can be plenty of possible Release date for the missing values.\n",
    "   \n",
    "<space> \n",
    "    \n",
    "5) There are 195 missing value in the size columns. These values cannot be deduced in any way nor can we use a mean value as each app is different. Hence, the best option would be to drop these missing values. This would then allow the Size dtype to be converted to float.\n",
    "    \n",
    "In conclusion: Most of the missing values will be difficult to determined. It would be the best option to drop all of them."
   ]
  },
  {
   "cell_type": "code",
   "execution_count": 30,
   "id": "ca0f328e",
   "metadata": {},
   "outputs": [],
   "source": [
    "# Dropping missing values\n",
    "\n",
    "playstore_data.dropna(inplace=True)"
   ]
  },
  {
   "cell_type": "code",
   "execution_count": 31,
   "id": "01b0a0ac",
   "metadata": {},
   "outputs": [
    {
     "data": {
      "text/plain": [
       "App_Name            0\n",
       "Category            0\n",
       "Rating              0\n",
       "Rating_Count        0\n",
       "Installs            0\n",
       "Minimum_Installs    0\n",
       "Maximum_Installs    0\n",
       "Free                0\n",
       "Price               0\n",
       "Currency            0\n",
       "Size                0\n",
       "Released            0\n",
       "Last_Updated        0\n",
       "Content_Rating      0\n",
       "Ad_Supported        0\n",
       "In_App_Purchases    0\n",
       "Editors_Choice      0\n",
       "dtype: int64"
      ]
     },
     "execution_count": 31,
     "metadata": {},
     "output_type": "execute_result"
    }
   ],
   "source": [
    "# Checking for missing values\n",
    "\n",
    "playstore_data.isnull().sum()"
   ]
  },
  {
   "cell_type": "markdown",
   "id": "637d38f7",
   "metadata": {},
   "source": [
    "- As it is all null, all missing values have been dropped. We can now proceed to the last transformation."
   ]
  },
  {
   "cell_type": "markdown",
   "id": "629b1629",
   "metadata": {},
   "source": [
    "#### Size"
   ]
  },
  {
   "cell_type": "markdown",
   "id": "15494985",
   "metadata": {},
   "source": [
    "- Now, for \"Size\", the reason it is listed as objects are because it contains an alphabet at the back. \n",
    "\n",
    "<space>\n",
    "    \n",
    "- For example: \"10M\" or \"10K\" or \"Varies with Device\"\n",
    "    \n",
    "<space>\n",
    "    \n",
    "- We should remove all strings and convert to float (as there are decimal places). However, if just remove the letters, 10M and 10K would be distinguishable. So we should also convert these to its numerical form."
   ]
  },
  {
   "cell_type": "code",
   "execution_count": 32,
   "id": "1b5ab787",
   "metadata": {},
   "outputs": [
    {
     "name": "stdout",
     "output_type": "stream",
     "text": [
      "<class 'pandas.core.series.Series'>\n",
      "Int64Index: 2241661 entries, 0 to 2312943\n",
      "Series name: Size\n",
      "Non-Null Count    Dtype \n",
      "--------------    ----- \n",
      "2241661 non-null  object\n",
      "dtypes: object(1)\n",
      "memory usage: 34.2+ MB\n"
     ]
    }
   ],
   "source": [
    "playstore_data[\"Size\"].info() "
   ]
  },
  {
   "cell_type": "code",
   "execution_count": 33,
   "id": "835faa65",
   "metadata": {},
   "outputs": [],
   "source": [
    "# This functions checks if the data either has an M, K or something else entirely. \n",
    "# It will first remove the strings behind the value, change to float and multiple accordingly\n",
    "\n",
    "def convert_to_numeric(value):\n",
    "    if 'M' in value:\n",
    "        value = re.sub(r'[^0-9.]', '', value)\n",
    "        value = float(value) * 1000000\n",
    "        return value\n",
    "    elif 'K' in value:\n",
    "        value = re.sub(r'[^0-9.]', '', value)\n",
    "        value = float(value) * 1000\n",
    "        return value\n",
    "    else:\n",
    "        value = re.sub(r'[^0-9.]', '0', value)\n",
    "        value = float(value) \n",
    "        return value"
   ]
  },
  {
   "cell_type": "code",
   "execution_count": 34,
   "id": "73501810",
   "metadata": {},
   "outputs": [],
   "source": [
    "# Use the function to the \"Size\"\n",
    "playstore_data[\"Size\"] = playstore_data[\"Size\"].apply(convert_to_numeric)"
   ]
  },
  {
   "cell_type": "code",
   "execution_count": 35,
   "id": "ffe6b579",
   "metadata": {},
   "outputs": [
    {
     "name": "stdout",
     "output_type": "stream",
     "text": [
      "<class 'pandas.core.series.Series'>\n",
      "Int64Index: 2241661 entries, 0 to 2312943\n",
      "Series name: Size\n",
      "Non-Null Count    Dtype  \n",
      "--------------    -----  \n",
      "2241661 non-null  float64\n",
      "dtypes: float64(1)\n",
      "memory usage: 34.2 MB\n"
     ]
    }
   ],
   "source": [
    "# Checking\n",
    "playstore_data[\"Size\"].info() "
   ]
  },
  {
   "cell_type": "code",
   "execution_count": 36,
   "id": "e08ba7dc",
   "metadata": {},
   "outputs": [
    {
     "data": {
      "text/html": [
       "<div>\n",
       "<style scoped>\n",
       "    .dataframe tbody tr th:only-of-type {\n",
       "        vertical-align: middle;\n",
       "    }\n",
       "\n",
       "    .dataframe tbody tr th {\n",
       "        vertical-align: top;\n",
       "    }\n",
       "\n",
       "    .dataframe thead th {\n",
       "        text-align: right;\n",
       "    }\n",
       "</style>\n",
       "<table border=\"1\" class=\"dataframe\">\n",
       "  <thead>\n",
       "    <tr style=\"text-align: right;\">\n",
       "      <th></th>\n",
       "      <th>App_Name</th>\n",
       "      <th>Category</th>\n",
       "      <th>Rating</th>\n",
       "      <th>Rating_Count</th>\n",
       "      <th>Installs</th>\n",
       "      <th>Minimum_Installs</th>\n",
       "      <th>Maximum_Installs</th>\n",
       "      <th>Free</th>\n",
       "      <th>Price</th>\n",
       "      <th>Currency</th>\n",
       "      <th>Size</th>\n",
       "      <th>Released</th>\n",
       "      <th>Last_Updated</th>\n",
       "      <th>Content_Rating</th>\n",
       "      <th>Ad_Supported</th>\n",
       "      <th>In_App_Purchases</th>\n",
       "      <th>Editors_Choice</th>\n",
       "    </tr>\n",
       "  </thead>\n",
       "  <tbody>\n",
       "    <tr>\n",
       "      <th>0</th>\n",
       "      <td>Gakondo</td>\n",
       "      <td>Adventure</td>\n",
       "      <td>0.0</td>\n",
       "      <td>0.0</td>\n",
       "      <td>10</td>\n",
       "      <td>10</td>\n",
       "      <td>15</td>\n",
       "      <td>True</td>\n",
       "      <td>0.0</td>\n",
       "      <td>USD</td>\n",
       "      <td>10000000.0</td>\n",
       "      <td>2020-02-26</td>\n",
       "      <td>2020-02-26</td>\n",
       "      <td>Everyone</td>\n",
       "      <td>False</td>\n",
       "      <td>False</td>\n",
       "      <td>False</td>\n",
       "    </tr>\n",
       "  </tbody>\n",
       "</table>\n",
       "</div>"
      ],
      "text/plain": [
       "  App_Name   Category  Rating  Rating_Count  Installs  Minimum_Installs  \\\n",
       "0  Gakondo  Adventure     0.0           0.0        10                10   \n",
       "\n",
       "   Maximum_Installs  Free  Price Currency        Size   Released Last_Updated  \\\n",
       "0                15  True    0.0      USD  10000000.0 2020-02-26   2020-02-26   \n",
       "\n",
       "  Content_Rating  Ad_Supported  In_App_Purchases  Editors_Choice  \n",
       "0       Everyone         False             False           False  "
      ]
     },
     "execution_count": 36,
     "metadata": {},
     "output_type": "execute_result"
    }
   ],
   "source": [
    "# Looking at how the dataset is\n",
    "playstore_data.head(1)"
   ]
  },
  {
   "cell_type": "markdown",
   "id": "90e067d7",
   "metadata": {},
   "source": [
    "- As we can see, the total enteries remains the space, and the Dtype is now float.\n",
    "\n",
    "<space>\n",
    "    \n",
    "- Now, we can move onto Visualisation."
   ]
  },
  {
   "cell_type": "markdown",
   "id": "8a442f70",
   "metadata": {},
   "source": [
    "## Visualisation\n",
    "\n",
    "> Top 10 Rated Apps\n",
    "\n",
    "> Top 10 Categories with most installs\n",
    "\n",
    "> Ad Supported and In-App Purchases? Do they have more installs, etc...\n",
    "\n",
    "> Free vs Paid apps that contains Ad Supported and In-App Purchases\n",
    "\n",
    "> Ratings of Free vs Paid apps\n",
    "\n",
    "> Ratings of Different Categories (Top 5, Bottom 5)\n",
    "\n",
    "> Editor's Choice: Free vs Paid Apps"
   ]
  },
  {
   "cell_type": "markdown",
   "id": "75a34733",
   "metadata": {},
   "source": [
    "### Top Rated Apps\n"
   ]
  },
  {
   "cell_type": "code",
   "execution_count": 37,
   "id": "16af48ff",
   "metadata": {},
   "outputs": [
    {
     "data": {
      "image/png": "[encoded data removed]",
      "text/plain": [
       "<Figure size 1000x600 with 1 Axes>"
      ]
     },
     "metadata": {},
     "output_type": "display_data"
    }
   ],
   "source": [
    "# Sort ratings in descending order\n",
    "desc_rating = playstore_data.sort_values(by=\"Rating\", ascending=False)\n",
    "\n",
    "# There's going to be lots of values, so let's just show the top 10\n",
    "top_ten_apps = desc_rating.head(10)\n",
    "\n",
    "# Set the figure size\n",
    "plt.figure(figsize=(10, 6))\n",
    "\n",
    "# Bar Colours\n",
    "bar_colors = ['#1f77b4', '#ff7f0e', '#2ca02c', '#d62728', '#9467bd',\n",
    "          '#8c564b', '#e377c2', '#7f7f7f', '#bcbd22', '#17becf']\n",
    "\n",
    "# Plot the bar graph\n",
    "bars = plt.barh(top_ten_apps[\"App_Name\"], top_ten_apps[\"Rating\"], color=bar_colors)\n",
    "\n",
    "# Title\n",
    "plt.title(\"Top Ten rated apps\")\n",
    "\n",
    "# x-axis\n",
    "plt.xlabel(\"Ratings\")\n",
    "\n",
    "# y-axis\n",
    "plt.ylabel(\"App Names\")\n",
    "    \n",
    "# Display the plot\n",
    "plt.show()\n"
   ]
  },
  {
   "cell_type": "code",
   "execution_count": 38,
   "id": "51953b8a",
   "metadata": {},
   "outputs": [
    {
     "name": "stdout",
     "output_type": "stream",
     "text": [
      "+---+------------------------------------------+----------------+\n",
      "|   |                 App_Name                 |    Category    |\n",
      "+---+------------------------------------------+----------------+\n",
      "| 0 |       Biliyor Musun - Sonsuz Yarış       |     Trivia     |\n",
      "| 1 |             Rockets In Space             |     Arcade     |\n",
      "| 2 |          The Freelancers School          |   Education    |\n",
      "| 3 |          Steerpath Smart Campus          |     Tools      |\n",
      "| 4 |                 EQUiSat                  |   Education    |\n",
      "| 5 | Rise-It Up Ball Protect - Keep Rising Up |     Casual     |\n",
      "| 6 |             Simasakti Umroh              | Travel & Local |\n",
      "| 7 |         Travel Syariah212 Mobile         | Travel & Local |\n",
      "| 8 |               Calator.info               | Travel & Local |\n",
      "| 9 |     Hide N Seek - Solve the Puzzles      |     Puzzle     |\n",
      "+---+------------------------------------------+----------------+\n"
     ]
    }
   ],
   "source": [
    "# Remove index values\n",
    "top_ten_apps.reset_index(drop=True, inplace=True)\n",
    "\n",
    "# Display top rated apps and its categories using tabulate\n",
    "table = tabulate(top_ten_apps[['App_Name', 'Category']], headers='keys', tablefmt='pretty')\n",
    "\n",
    "print(table)"
   ]
  },
  {
   "cell_type": "markdown",
   "id": "e03ab193",
   "metadata": {},
   "source": [
    "#### **Insights:**\n",
    "\n",
    "- All of them have a rating of 5.0\n",
    "\n",
    "\n",
    "    \n",
    "\n"
   ]
  },
  {
   "cell_type": "markdown",
   "id": "d9214e23",
   "metadata": {},
   "source": [
    "### Top 10 Categories with most installs\n",
    "\n",
    "> There's too many categories so let's just look at the top 10"
   ]
  },
  {
   "cell_type": "code",
   "execution_count": 39,
   "id": "5024efa3",
   "metadata": {},
   "outputs": [
    {
     "data": {
      "image/png": "[encoded data removed]",
      "text/plain": [
       "<Figure size 1000x600 with 1 Axes>"
      ]
     },
     "metadata": {},
     "output_type": "display_data"
    }
   ],
   "source": [
    "# Grouping the data and calculating total installs per category\n",
    "category_installs = playstore_data.groupby(\"Category\")[\"Installs\"].sum()\n",
    "\n",
    "# Sort in descending order\n",
    "desc_installs = category_installs.sort_values(ascending=False)\n",
    "\n",
    "# There's going to be lots of values, so let's just show the top 10\n",
    "top_ten_catg_installs = desc_installs.head(10)\n",
    "\n",
    "# Set the figure size\n",
    "plt.figure(figsize=(10, 6))\n",
    "\n",
    "# Bar Colours\n",
    "bar_colors = ['#1f77b4', '#ff7f0e', '#2ca02c', '#d62728', '#9467bd',\n",
    "          '#8c564b', '#e377c2', '#7f7f7f', '#bcbd22', '#17becf']\n",
    "\n",
    "# Plot the bar graph\n",
    "bars = plt.barh(top_ten_catg_installs.index, top_ten_catg_installs, color = bar_colors)\n",
    "\n",
    "# Title\n",
    "plt.title(\"Number of Installs by Category\")\n",
    "\n",
    "# x-axis\n",
    "plt.xlabel(\"Installs\")\n",
    "\n",
    "# y-axis\n",
    "plt.ylabel(\"Categories\")\n",
    "\n",
    "# To show value on top of bar graph. Loop through the patches and annotate the bars. \n",
    "for i, value in enumerate(top_ten_catg_installs):\n",
    "    plt.text(value, i, f'{value:,}',  ha=\"right\", va=\"center\")\n",
    "    \n",
    "# Display the plot\n",
    "plt.show()\n"
   ]
  },
  {
   "cell_type": "markdown",
   "id": "0b8fbeb6",
   "metadata": {},
   "source": [
    "#### **Insights:**\n",
    "\n",
    "- The category with the most installs is Tools (26 Billion). It is almost double of Actions (14 Billion). \n",
    "\n",
    "<space>\n",
    "\n",
    "- Cateogry with least installs is Education is (9 Billion).\n",
    "\n",
    "<space>\n",
    "    \n",
    "    \n",
    "- Other than Tools, the next popular categories with most installs are \"Action\", \"Casual\", \"Arcade\" and \"Entertainment\". These all might be associated with Gaming applications which is very popular in the Playstore.\n",
    "\n",
    "<space>    \n",
    "    \n",
    "- Education category has lower installs compared to other categories.\n",
    "\n",
    "<space>\n",
    "\n",
    "\n"
   ]
  },
  {
   "cell_type": "markdown",
   "id": "c9ad54af",
   "metadata": {},
   "source": [
    "### Ad Supported and In-App Purchases? "
   ]
  },
  {
   "cell_type": "code",
   "execution_count": 40,
   "id": "a884ca53",
   "metadata": {},
   "outputs": [
    {
     "data": {
      "image/png": "[encoded data removed]",
      "text/plain": [
       "<Figure size 640x480 with 1 Axes>"
      ]
     },
     "metadata": {},
     "output_type": "display_data"
    }
   ],
   "source": [
    "# Group the data by Ad_Supported and In_App_Purchaseses\n",
    "# .size -> count | .unstack -> pivot data so it's easier to display\n",
    "grouped_data = playstore_data.groupby([\"Ad_Supported\", \"In_App_Purchases\"]).size().unstack()\n",
    "\n",
    "# Create Clustered Bar Chart\n",
    "grouped_data.plot(kind=\"bar\", stacked=False)\n",
    "\n",
    "# Title\n",
    "plt.title(\"Comparison of Ad Supported and In-App Purchases\")\n",
    "\n",
    "# x-axis\n",
    "plt.xlabel(\"Ad Supported\")\n",
    "plt.xticks(rotation=0)\n",
    "\n",
    "# y-axis\n",
    "plt.ylabel(\"No. of Apps\")\n",
    "    \n",
    "# Display the plot\n",
    "plt.show()\n"
   ]
  },
  {
   "cell_type": "markdown",
   "id": "1cf29a52",
   "metadata": {},
   "source": [
    "#### **Insights:**\n",
    "\n",
    "- Firstly, it seems there are not a lot of apps which contains in-app purchases in the dataset.\n",
    "\n",
    "<space>\n",
    "\n",
    "- However, for apps that are Ad supported (on the right), there's a more amount of apps that also includes in app purchases. A reason behind this could be that the developer wants more revenue. A common tactic by Ad Supported Apps would be to include purchases that removes the apps.\n",
    "\n",
    "<space>\n",
    "\n",
    "- For apps that are not ad supported (on the left), there's a smaller amount of apps that contains in app purchases.\n"
   ]
  },
  {
   "cell_type": "markdown",
   "id": "86e1e142",
   "metadata": {},
   "source": [
    "### Free vs Paid apps that contains Ad Supported and In-App Purchases\n",
    "\n",
    "> Further building on the graph above"
   ]
  },
  {
   "cell_type": "code",
   "execution_count": 41,
   "id": "972fbc58",
   "metadata": {},
   "outputs": [
    {
     "data": {
      "text/plain": [
       "True     2197466\n",
       "False      44195\n",
       "Name: Free, dtype: int64"
      ]
     },
     "execution_count": 41,
     "metadata": {},
     "output_type": "execute_result"
    }
   ],
   "source": [
    "# Looking at the column Free, it only has T or F\n",
    "\n",
    "playstore_data['Free'].value_counts()"
   ]
  },
  {
   "cell_type": "code",
   "execution_count": 42,
   "id": "baa45bdd",
   "metadata": {},
   "outputs": [
    {
     "data": {
      "image/png": "[encoded data removed]",
      "text/plain": [
       "<Figure size 640x480 with 1 Axes>"
      ]
     },
     "metadata": {},
     "output_type": "display_data"
    }
   ],
   "source": [
    "# Group Free Apps\n",
    "# Count total amt of Ad Supported and In App Purchases\n",
    "free_data = playstore_data.groupby([\"Free\"])[[\"Ad_Supported\", \"In_App_Purchases\"]].sum()\n",
    "\n",
    "# Plot the bar chart\n",
    "free_data.plot(kind=\"bar\", stacked=True)\n",
    "\n",
    "# Title\n",
    "plt.title(\"Distribution of Ad Supported and In-App Purchases for Free vs Paid Apps\")\n",
    "\n",
    "# x-axis\n",
    "plt.xlabel(\"App Type\")\n",
    "plt.xticks([0, 1], [\"Paid\", \"Free\"], rotation=0)\n",
    "\n",
    "# y-axis\n",
    "plt.ylabel(\"Count\")\n",
    "\n",
    "# Show the chart\n",
    "plt.legend(title=\"Features\", loc=\"upper left\", labels=[\"Ad Supported\", \"In-App Purchases\"])\n",
    "\n",
    "# Display the plot\n",
    "plt.show()\n",
    "\n"
   ]
  },
  {
   "cell_type": "markdown",
   "id": "2d076ee5",
   "metadata": {},
   "source": [
    "#### **Insights:**\n",
    "\n",
    "- As we can see, there are a little paid apps which are ad supported or contains in app purchases. This makes sense as paid apps generally include an ad-free experience as the users have already paid for the app.\n",
    "\n",
    "<space>\n",
    "\n",
    "- However, for apps that are free, majority of it are ad supported and a few contains in app purchases as well."
   ]
  },
  {
   "cell_type": "markdown",
   "id": "96569817",
   "metadata": {},
   "source": [
    "### Boxplot of Free vs Paid apps with Ratings"
   ]
  },
  {
   "cell_type": "code",
   "execution_count": 43,
   "id": "15db2baa",
   "metadata": {},
   "outputs": [
    {
     "data": {
      "image/png": "[encoded data removed]",
      "text/plain": [
       "<Figure size 800x600 with 1 Axes>"
      ]
     },
     "metadata": {},
     "output_type": "display_data"
    }
   ],
   "source": [
    "# Create a boxplot comparing ratings of free and paid apps\n",
    "\n",
    "# Set the figure size\n",
    "plt.figure(figsize=(8, 6))\n",
    "\n",
    "# Box plot\n",
    "# Firstly, we retrieve ratings from where Apps = Free\n",
    "# Do the same but with Apps = Paid (in this case it's ~playstore_data[Free])\n",
    "plt.boxplot([playstore_data[playstore_data[\"Free\"]][\"Rating\"], \n",
    "             playstore_data[~playstore_data[\"Free\"]][\"Rating\"]],\n",
    "            labels=[\"Free\", \"Paid\"])\n",
    "\n",
    "# Title\n",
    "plt.title('Boxplot of Ratings for Free vs Paid Apps')\n",
    "\n",
    "# x-axis\n",
    "plt.xlabel(\"App Type\")\n",
    "\n",
    "# y-axis\n",
    "plt.ylabel(\"Ratings\")\n",
    "\n",
    "# Display the plot\n",
    "plt.show()"
   ]
  },
  {
   "cell_type": "markdown",
   "id": "fe334821",
   "metadata": {},
   "source": [
    "#### **Insights:**\n",
    "\n",
    "- Apps that are Paid have a higher ratings than the Free ones. A possible reason is because paid apps are more polished and are of better quality than free apps. Hence, user enjoys these experiece and gives it a high rating.\n"
   ]
  },
  {
   "cell_type": "markdown",
   "id": "360b11d1",
   "metadata": {},
   "source": [
    "### Ratings of Different Categories (Top 5, Bottom 5) "
   ]
  },
  {
   "cell_type": "code",
   "execution_count": 44,
   "id": "74f18c8a",
   "metadata": {},
   "outputs": [],
   "source": [
    "# This code is simillar to the one used previously\n",
    "# If we want the top and bottom 5, we need to group it, then split it respectively\n",
    "\n",
    "# Grouping the data and calculating total installs per category\n",
    "category_installs = playstore_data.groupby(\"Category\")[\"Installs\"].sum()\n",
    "\n",
    "# Sort ratings in descending order\n",
    "desc_installs = category_installs.sort_values(ascending=False)\n",
    "ascs_installs = category_installs.sort_values(ascending=True)\n",
    "\n",
    "# Top 5 of each\n",
    "top_five_catg_installs = desc_installs.head(5)\n",
    "bottom_five_catg_installs = ascs_installs.head(5)\n",
    "\n",
    "# Get the categories for the top and bottom 5 groups\n",
    "top_five_cats = top_five_catg_installs.index\n",
    "bottom_five_cats = bottom_five_catg_installs.index\n"
   ]
  },
  {
   "cell_type": "code",
   "execution_count": 45,
   "id": "7949d8a5",
   "metadata": {},
   "outputs": [
    {
     "name": "stdout",
     "output_type": "stream",
     "text": [
      "Top 5 Categories:  Index(['Tools', 'Communication', 'Productivity', 'Photography',\n",
      "       'Video Players & Editors'],\n",
      "      dtype='object', name='Category') \n",
      "\n",
      "Category\n",
      "Tools                      63896078397\n",
      "Communication              42851498693\n",
      "Productivity               27786534541\n",
      "Photography                18736703748\n",
      "Video Players & Editors    17975980826\n",
      "Name: Installs, dtype: int64\n"
     ]
    }
   ],
   "source": [
    "# Checking to see if the codes are on the right tracks\n",
    "\n",
    "# Shows index (only categories)\n",
    "print(\"Top 5 Categories: \", (top_five_cats), \"\\n\")\n",
    "\n",
    "# Shows category and number\n",
    "print( top_five_catg_installs)"
   ]
  },
  {
   "cell_type": "code",
   "execution_count": 46,
   "id": "db39358c",
   "metadata": {},
   "outputs": [
    {
     "data": {
      "image/png": "[encoded data removed]",
      "text/plain": [
       "<Figure size 2000x500 with 5 Axes>"
      ]
     },
     "metadata": {},
     "output_type": "display_data"
    }
   ],
   "source": [
    "# Create subplots for top 5 categories\n",
    "fig, axes = plt.subplots(nrows=1, ncols=5, figsize=(20, 5))\n",
    "\n",
    "for i, category in enumerate(top_five_cats):\n",
    "    ratings = playstore_data[playstore_data[\"Category\"] == category][\"Rating\"]\n",
    "    axes[i].boxplot(ratings, labels=[category])\n",
    "    axes[i].set_title(category)\n",
    "    axes[i].set_ylabel(\"Ratings\")\n",
    "\n",
    "plt.tight_layout()\n",
    "plt.show()\n",
    "\n"
   ]
  },
  {
   "cell_type": "markdown",
   "id": "ae7f8400",
   "metadata": {},
   "source": [
    "#### **Insights:**\n",
    "\n",
    "- Video Players & Editors has the highest rating, followed by: Photography, Tools, Communication and Productivity\n"
   ]
  },
  {
   "cell_type": "code",
   "execution_count": 47,
   "id": "41c7cc4b",
   "metadata": {},
   "outputs": [
    {
     "data": {
      "image/png": "[encoded data removed]",
      "text/plain": [
       "<Figure size 2000x500 with 5 Axes>"
      ]
     },
     "metadata": {},
     "output_type": "display_data"
    }
   ],
   "source": [
    "# Create subplots for bottom 5 categories\n",
    "fig, axes = plt.subplots(nrows=1, ncols=5, figsize=(20, 5))\n",
    "\n",
    "for i, category in enumerate(bottom_five_cats):\n",
    "    ratings = playstore_data[playstore_data[\"Category\"] == category][\"Rating\"]\n",
    "    axes[i].boxplot(ratings, labels=[category])\n",
    "    axes[i].set_title(category)\n",
    "    axes[i].set_ylabel(\"Ratings\")\n",
    "\n",
    "plt.tight_layout()\n",
    "plt.show()"
   ]
  },
  {
   "cell_type": "markdown",
   "id": "36378fde",
   "metadata": {},
   "source": [
    "#### **Insights:**\n",
    "\n",
    "- Comics has the highest rating, followed by: Parenting, Libaries & Demo, Events and Beauty\n"
   ]
  },
  {
   "cell_type": "markdown",
   "id": "42888f8a",
   "metadata": {},
   "source": [
    "### Distributions of Installs and the App Size"
   ]
  },
  {
   "cell_type": "code",
   "execution_count": 48,
   "id": "5f77d9e4",
   "metadata": {},
   "outputs": [
    {
     "name": "stdout",
     "output_type": "stream",
     "text": [
      "<class 'pandas.core.frame.DataFrame'>\n",
      "Int64Index: 2241661 entries, 0 to 2312943\n",
      "Data columns (total 17 columns):\n",
      " #   Column            Dtype         \n",
      "---  ------            -----         \n",
      " 0   App_Name          object        \n",
      " 1   Category          object        \n",
      " 2   Rating            float64       \n",
      " 3   Rating_Count      float64       \n",
      " 4   Installs          int64         \n",
      " 5   Minimum_Installs  int64         \n",
      " 6   Maximum_Installs  int64         \n",
      " 7   Free              bool          \n",
      " 8   Price             float64       \n",
      " 9   Currency          object        \n",
      " 10  Size              float64       \n",
      " 11  Released          datetime64[ns]\n",
      " 12  Last_Updated      datetime64[ns]\n",
      " 13  Content_Rating    object        \n",
      " 14  Ad_Supported      bool          \n",
      " 15  In_App_Purchases  bool          \n",
      " 16  Editors_Choice    bool          \n",
      "dtypes: bool(4), datetime64[ns](2), float64(4), int64(3), object(4)\n",
      "memory usage: 248.0+ MB\n"
     ]
    }
   ],
   "source": [
    "playstore_data.info()"
   ]
  },
  {
   "cell_type": "code",
   "execution_count": 49,
   "id": "7311704f",
   "metadata": {},
   "outputs": [
    {
     "data": {
      "text/plain": [
       "0    10000000.0\n",
       "1     2900000.0\n",
       "2     3700000.0\n",
       "3     1800000.0\n",
       "Name: Size, dtype: float64"
      ]
     },
     "execution_count": 49,
     "metadata": {},
     "output_type": "execute_result"
    }
   ],
   "source": [
    "playstore_data[\"Size\"].head(4)"
   ]
  },
  {
   "cell_type": "code",
   "execution_count": 50,
   "id": "ff2f1740",
   "metadata": {},
   "outputs": [
    {
     "data": {
      "image/png": "[encoded data removed]",
      "text/plain": [
       "<Figure size 1300x700 with 1 Axes>"
      ]
     },
     "metadata": {},
     "output_type": "display_data"
    }
   ],
   "source": [
    "# Plot Adjustment\n",
    "plt.figure(figsize=(13, 7), facecolor=\"white\", edgecolor=\"black\")\n",
    "\n",
    "# Creating the Scatter plot\n",
    "plt.scatter(playstore_data[\"Size\"], playstore_data[\"Installs\"], c=playstore_data[\"Installs\"], cmap=\"viridis\", s=40, alpha=0.6)\n",
    "\n",
    "# Creating Best Fit (Regression) Line\n",
    "# Need to find the coefficient first\n",
    "coefficients = np.polyfit(playstore_data[\"Size\"], playstore_data[\"Installs\"], 1)\n",
    "\n",
    "# Create a linear regression line\n",
    "line = np.poly1d(coefficients)\n",
    "\n",
    "\n",
    "# Plotting the best-fit line\n",
    "#plt.plot(x_fit, y_fit, color=\"red\", linestyle=\"--\", linewidth=2)\n",
    "\n",
    "# Title\n",
    "plt.title(\"Size vs Installs\")\n",
    "\n",
    "# x-axis\n",
    "plt.xlabel(\"Size\")\n",
    "\n",
    "# y-axis\n",
    "plt.ylabel(\"Installs\")\n",
    "\n",
    "# Custom FuncFormatter\n",
    "def millions_formatter(x, pos):\n",
    "    return f'{int(x / 1000000)}M'\n",
    "\n",
    "# Formatting Y-axis\n",
    "formatter = FuncFormatter(millions_formatter)\n",
    "plt.gca().yaxis.set_major_formatter(formatter)\n",
    "\n",
    "# Display the plot\n",
    "plt.show()\n"
   ]
  },
  {
   "cell_type": "markdown",
   "id": "fa7d229a",
   "metadata": {},
   "source": [
    "#### **Insights:**\n",
    "\n",
    "- Firstly, keep in mind that I had already convereted the Size column to numerical value during Data Transformation.\n",
    "\n",
    "<space>\n",
    "\n",
    "- Most apps, regardless of size have a standard installs counts around 1.5M installs. However there are certain outliers in which appilication with sizes close to 0.0 have large amounts of installs. \n",
    "    \n",
    "<space>\n",
    "\n",
    "- Of course, an application cannot simply be 0.0, so these could also be the result of the \"Varies with device\" which was converted to zero during the data transformation phase.\n"
   ]
  },
  {
   "cell_type": "markdown",
   "id": "2fc11a12",
   "metadata": {},
   "source": [
    "## Editor's Choice: Free vs Paid Apps"
   ]
  },
  {
   "cell_type": "code",
   "execution_count": 51,
   "id": "594d4fc9",
   "metadata": {},
   "outputs": [
    {
     "name": "stdout",
     "output_type": "stream",
     "text": [
      "<class 'pandas.core.frame.DataFrame'>\n",
      "Int64Index: 2241661 entries, 0 to 2312943\n",
      "Data columns (total 17 columns):\n",
      " #   Column            Dtype         \n",
      "---  ------            -----         \n",
      " 0   App_Name          object        \n",
      " 1   Category          object        \n",
      " 2   Rating            float64       \n",
      " 3   Rating_Count      float64       \n",
      " 4   Installs          int64         \n",
      " 5   Minimum_Installs  int64         \n",
      " 6   Maximum_Installs  int64         \n",
      " 7   Free              bool          \n",
      " 8   Price             float64       \n",
      " 9   Currency          object        \n",
      " 10  Size              float64       \n",
      " 11  Released          datetime64[ns]\n",
      " 12  Last_Updated      datetime64[ns]\n",
      " 13  Content_Rating    object        \n",
      " 14  Ad_Supported      bool          \n",
      " 15  In_App_Purchases  bool          \n",
      " 16  Editors_Choice    bool          \n",
      "dtypes: bool(4), datetime64[ns](2), float64(4), int64(3), object(4)\n",
      "memory usage: 248.0+ MB\n"
     ]
    }
   ],
   "source": [
    "playstore_data.info()"
   ]
  },
  {
   "cell_type": "code",
   "execution_count": 52,
   "id": "8c8ae033",
   "metadata": {},
   "outputs": [
    {
     "data": {
      "text/plain": [
       "False    2240876\n",
       "True         785\n",
       "Name: Editors_Choice, dtype: int64"
      ]
     },
     "execution_count": 52,
     "metadata": {},
     "output_type": "execute_result"
    }
   ],
   "source": [
    "# Checking Editor's Choice counts -> Only 649 enteries have it\n",
    "playstore_data[\"Editors_Choice\"].value_counts()"
   ]
  },
  {
   "cell_type": "code",
   "execution_count": 53,
   "id": "fd061c08",
   "metadata": {},
   "outputs": [
    {
     "data": {
      "image/png": "[encoded data removed]",
      "text/plain": [
       "<Figure size 640x480 with 1 Axes>"
      ]
     },
     "metadata": {},
     "output_type": "display_data"
    }
   ],
   "source": [
    "# Group the data by Free and Editors_Choice\n",
    "free_edata = playstore_data.groupby([\"Free\"])[[\"Editors_Choice\"]].sum()\n",
    "\n",
    "# Create Clustered Bar Chart\n",
    "ax = free_edata.plot(kind=\"bar\", stacked=False)\n",
    "\n",
    "# Title\n",
    "plt.title(\"Comparison of Free and Paid Apps with Editor's Choice\")\n",
    "\n",
    "# x-axis\n",
    "plt.xlabel(\"App Type\")\n",
    "plt.xticks([0, 1], [\"Free\", \"Paid\"], rotation=0)\n",
    "\n",
    "# y-axis\n",
    "plt.ylabel(\"No. of Apps\")\n",
    "\n",
    "# To show value on top of bar graph. Loop through the patches and annotate the bars. \n",
    "for i, value in enumerate(free_edata[\"Editors_Choice\"]):\n",
    "    ax.text(i, value, str(value), ha=\"center\", va=\"bottom\")\n",
    "    \n",
    "# Display the plot\n",
    "plt.show()\n"
   ]
  },
  {
   "cell_type": "markdown",
   "id": "82244e0b",
   "metadata": {},
   "source": [
    "#### **Insights:**\n",
    "\n",
    "- A significant amount of Apps that have an Editor's Choice are paid apps (617). However, there are also 32 Free apps which received it.\n"
   ]
  },
  {
   "cell_type": "markdown",
   "id": "da5375e2",
   "metadata": {},
   "source": [
    "## Ratings of Apps that recieved an Editor's Choice"
   ]
  },
  {
   "cell_type": "code",
   "execution_count": 54,
   "id": "31a34dc6",
   "metadata": {},
   "outputs": [
    {
     "data": {
      "image/png": "[encoded data removed]",
      "text/plain": [
       "<Figure size 1000x600 with 1 Axes>"
      ]
     },
     "metadata": {},
     "output_type": "display_data"
    }
   ],
   "source": [
    "# Filter the data by Editors_Choice is equals to True\n",
    "ec_data = playstore_data[playstore_data[\"Editors_Choice\"] == True]\n",
    "\n",
    "# Create a skew graph\n",
    "plt.figure(figsize=(10, 6))\n",
    "\n",
    "sns.histplot(ec_data[\"Rating\"], kde=True, color=\"blue\")\n",
    "\n",
    "# Title\n",
    "plt.title(\"Skew Graph of Ratings for Editor's Choice Apps\")\n",
    "\n",
    "# x-axis\n",
    "plt.xlabel(\"Rating\")\n",
    "\n",
    "# y-axis\n",
    "plt.ylabel(\"No. of Apps\")\n",
    "    \n",
    "# Display the plot\n",
    "plt.show()\n"
   ]
  },
  {
   "cell_type": "markdown",
   "id": "295554fc",
   "metadata": {},
   "source": [
    "#### **Insights:**\n",
    "\n",
    "- Majority of the Apps that recieved an Editors Choice are on the higher end of the rating scale (between the ratings of 4.0 and 4.8). This makes sense as apps that have a higher ratings, suggest that users have a good experience with using the apps.\n",
    "\n",
    "<space>\n",
    "\n",
    "- However, there are also certain outliers. Apps that have a lower rating such a 1.0 or 2.8, but still managing to recieve an Editors Choice."
   ]
  },
  {
   "cell_type": "markdown",
   "id": "eb647577",
   "metadata": {},
   "source": [
    "## Conclusion"
   ]
  },
  {
   "cell_type": "markdown",
   "id": "9136a301",
   "metadata": {},
   "source": [
    "#### Category Insights:\n",
    "\n",
    "- The category with the most installs is \"Tools\" with 26 billion, almost double that of \"Action\" with 14 billion installs. \n",
    "\n",
    "<space>\n",
    "\n",
    "- Categories like \"Action,\" \"Casual,\" \"Arcade,\" and \"Entertainment\" also has high installs, which might be associated with Gaming applications in the Playstore.\n",
    "    \n",
    "<space>\n",
    "\n",
    "- \"Education\" stands out as having the least installs at 9 billion, suggesting lower popularity compared to other categories.\n",
    "\n",
    "#### In-App Purchases:\n",
    "  \n",
    "- Free apps, especially those that are ad-supported, often include in-app purchases. This might be a strategy to generate more revenue by providing a free version with ads and offering purchases to remove ads for a better user experience.\n",
    "    \n",
    "#### Paid Apps:\n",
    "    \n",
    "- Paid apps generally have higher ratings than free ones. This could be because paid apps are more polished and are of better quality than free apps. Users pay for the quality work that the developers put into making the app. Hence, user enjoys these experiece and gives it a high rating.\n",
    "    \n",
    "#### Editor's Choice:\n",
    "\n",
    "- A significant number of apps receiving Editor's Choice are paid (617), but there are also 32 free apps that received this distinction.\n",
    "    \n",
    "<space>    \n",
    "    \n",
    "- Apps with Editor's Choice tend to have higher ratings (between 4.0 and 4.8). However, there are outliers with lower ratings (1.0 or 2.8) still receiving Editor's Choice, suggesting other contributing factors at play."
   ]
  },
  {
   "cell_type": "code",
   "execution_count": null,
   "id": "3f67bec0",
   "metadata": {},
   "outputs": [],
   "source": []
  }
 ],
 "metadata": {
  "kernelspec": {
   "display_name": "Python 3 (ipykernel)",
   "language": "python",
   "name": "python3"
  },
  "language_info": {
   "codemirror_mode": {
    "name": "ipython",
    "version": 3
   },
   "file_extension": ".py",
   "mimetype": "text/x-python",
   "name": "python",
   "nbconvert_exporter": "python",
   "pygments_lexer": "ipython3",
   "version": "3.11.3"
  }
 },
 "nbformat": 4,
 "nbformat_minor": 5
}
